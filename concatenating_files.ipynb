{
  "nbformat": 4,
  "nbformat_minor": 0,
  "metadata": {
    "colab": {
      "provenance": [],
      "authorship_tag": "ABX9TyMOx1emTTA7l9Q90X0Py6Eo",
      "include_colab_link": true
    },
    "kernelspec": {
      "name": "python3",
      "display_name": "Python 3"
    },
    "language_info": {
      "name": "python"
    }
  },
  "cells": [
    {
      "cell_type": "markdown",
      "metadata": {
        "id": "view-in-github",
        "colab_type": "text"
      },
      "source": [
        "<a href=\"https://colab.research.google.com/github/AVVSEE/AVVSEE/blob/main/concatenating_files.ipynb\" target=\"_parent\"><img src=\"https://colab.research.google.com/assets/colab-badge.svg\" alt=\"Open In Colab\"/></a>"
      ]
    },
    {
      "cell_type": "markdown",
      "source": [
        "This notebook requires the original files to work correctly,\n",
        "either add them to the colab environment or mount drive to use\n",
        "\n"
      ],
      "metadata": {
        "id": "Ha0Dw5SXzFK5"
      }
    },
    {
      "cell_type": "markdown",
      "source": [
        "\n",
        "\n",
        "\n",
        "# Dataframe **concatenation**"
      ],
      "metadata": {
        "id": "tQP9mfJ_n-Mm"
      }
    },
    {
      "cell_type": "code",
      "source": [
        "import pandas as pd\n",
        "\n",
        "# List of filenames\n",
        "files = [\"abc_1.csv\", \"abc_2.csv\", \"abc_4.csv\"]\n",
        "\n",
        "# Initialize an empty list to store dataframes\n",
        "dfs = []\n",
        "\n",
        "# Iterate over files to read and append to the dfs list\n",
        "for file in files:\n",
        "    # Extract the file number\n",
        "    number = int(file.split('_')[-1].split('.')[0])\n",
        "\n",
        "    # Read the file with ISO-8859-1 encoding and \";\" delimiter\n",
        "    df = pd.read_csv(file, encoding='ISO-8859-1', delimiter=';')\n",
        "\n",
        "    # Adding a new column with the file number\n",
        "    df['store_id'] = number\n",
        "\n",
        "    # Appending the dataframe to the dfs list\n",
        "    dfs.append(df)\n",
        "\n",
        "# Concatenating all dataframes into a single dataframe\n",
        "final_df = pd.concat(dfs, ignore_index=True)\n",
        "\n",
        "# Renaming columns for clarity\n",
        "final_df = final_df.rename(columns={'Cod.Mercad': 'product_id'})"
      ],
      "metadata": {
        "id": "SfuJAAbhwhrb"
      },
      "execution_count": 15,
      "outputs": []
    },
    {
      "cell_type": "markdown",
      "source": [
        "# Calculating new column **C_best**"
      ],
      "metadata": {
        "id": "aZaOdIXqxySP"
      }
    },
    {
      "cell_type": "code",
      "source": [
        "# Function to determine the best label for each product based on the hierarchy A > B > C\n",
        "def best_label(group):\n",
        "    if 'A' in group.values:\n",
        "        return 'A'\n",
        "    elif 'B' in group.values:\n",
        "        return 'B'\n",
        "    else:\n",
        "        return 'C'\n",
        "\n",
        "# Applying the function to each group of product_id\n",
        "C_best = final_df.groupby('product_id')['C'].apply(best_label)\n",
        "\n",
        "# Merging the C_best series with the original dataframe based on the product_id\n",
        "final_df = final_df.merge(C_best, on='product_id', how='left', suffixes=('', '_best'))"
      ],
      "metadata": {
        "id": "W8e_jrh1xxu9"
      },
      "execution_count": 16,
      "outputs": []
    },
    {
      "cell_type": "markdown",
      "source": [
        "# **Dropping** unnecessary series"
      ],
      "metadata": {
        "id": "V9BbSM8TyBb6"
      }
    },
    {
      "cell_type": "code",
      "source": [
        "# Dropping unnecessary columns from the dataframe\n",
        "final_df = final_df[['product_id', 'C', 'store_id', 'C_best']]\n",
        "\n",
        "# Displaying the top rows of the updated dataframe\n",
        "print(final_df.head(30))\n"
      ],
      "metadata": {
        "colab": {
          "base_uri": "https://localhost:8080/"
        },
        "id": "1E79Wv2aoD5H",
        "outputId": "186385d1-2374-4b28-af93-f1c1b677291b"
      },
      "execution_count": 24,
      "outputs": [
        {
          "output_type": "stream",
          "name": "stdout",
          "text": [
            "    product_id  C  store_id C_best\n",
            "0      12140.0  A         1      A\n",
            "1      61284.0  A         1      A\n",
            "2      61159.0  A         1      A\n",
            "3      61177.0  A         1      A\n",
            "4      33001.0  A         1      A\n",
            "5      47568.0  A         1      A\n",
            "6      91769.0  A         1      A\n",
            "7      85954.0  A         1      A\n",
            "8      26144.0  A         1      A\n",
            "9      12783.0  A         1      A\n",
            "10     96782.0  A         1      A\n",
            "11     59395.0  A         1      A\n",
            "12     89415.0  A         1      A\n",
            "13     33029.0  A         1      A\n",
            "14     61122.0  B         1      A\n",
            "15     12774.0  B         1      A\n",
            "16     32985.0  B         1      B\n",
            "17     93455.0  B         1      A\n",
            "18     96504.0  B         1      A\n",
            "19     24645.0  B         1      A\n",
            "20     54032.0  B         1      A\n",
            "21     32994.0  B         1      B\n",
            "22     98682.0  B         1      B\n",
            "23     98664.0  B         1      B\n",
            "24     98842.0  B         1      B\n",
            "25     97433.0  B         1      A\n",
            "26     78980.0  B         1      A\n",
            "27     98174.0  B         1      B\n",
            "28     40743.0  B         1      A\n",
            "29     98209.0  B         1      B\n"
          ]
        }
      ]
    },
    {
      "cell_type": "markdown",
      "source": [
        "# **Checking** data integrity"
      ],
      "metadata": {
        "id": "cp6T8oD0yWVM"
      }
    },
    {
      "cell_type": "code",
      "source": [
        "final_df.shape"
      ],
      "metadata": {
        "colab": {
          "base_uri": "https://localhost:8080/"
        },
        "id": "QKQzCg7OoD0B",
        "outputId": "4b4b4d0e-cef6-401f-8bb9-a3bd542ad736"
      },
      "execution_count": 19,
      "outputs": [
        {
          "output_type": "execute_result",
          "data": {
            "text/plain": [
              "(20462, 4)"
            ]
          },
          "metadata": {},
          "execution_count": 19
        }
      ]
    },
    {
      "cell_type": "code",
      "source": [
        "print(final_df.isnull().sum())\n",
        "#no null values !"
      ],
      "metadata": {
        "colab": {
          "base_uri": "https://localhost:8080/"
        },
        "id": "mTochpWwyivp",
        "outputId": "2bae1f8c-d47f-4dec-f3ae-bfbd1bd3830a"
      },
      "execution_count": 20,
      "outputs": [
        {
          "output_type": "stream",
          "name": "stdout",
          "text": [
            "product_id    0\n",
            "C             0\n",
            "store_id      0\n",
            "C_best        0\n",
            "dtype: int64\n"
          ]
        }
      ]
    },
    {
      "cell_type": "code",
      "source": [
        "print(final_df.dtypes)\n",
        "#returns expected types"
      ],
      "metadata": {
        "colab": {
          "base_uri": "https://localhost:8080/"
        },
        "id": "O_xj99aroDb-",
        "outputId": "f95ce8da-94a1-44cd-8e06-2cad27564534"
      },
      "execution_count": 21,
      "outputs": [
        {
          "output_type": "stream",
          "name": "stdout",
          "text": [
            "product_id    float64\n",
            "C              object\n",
            "store_id        int64\n",
            "C_best         object\n",
            "dtype: object\n"
          ]
        }
      ]
    },
    {
      "cell_type": "code",
      "source": [
        "print(final_df['C'].unique())\n",
        "#only expected values in calculated series\n"
      ],
      "metadata": {
        "colab": {
          "base_uri": "https://localhost:8080/"
        },
        "id": "UtH_aAVdzW2n",
        "outputId": "d60e7a40-1426-43d1-d2f9-752943aa86ac"
      },
      "execution_count": 23,
      "outputs": [
        {
          "output_type": "stream",
          "name": "stdout",
          "text": [
            "['A' 'B' 'C']\n"
          ]
        }
      ]
    }
  ]
}